{
 "cells": [
  {
   "cell_type": "code",
   "execution_count": 23,
   "id": "126af97e-91d3-4c26-a57e-70fe6d618189",
   "metadata": {},
   "outputs": [],
   "source": [
    "import os\n",
    "os.chdir('/Users/likechen/Desktop/GitHub/George/George-portfolio_optimization/data')\n",
    "import numpy as np\n",
    "import pandas as pd\n",
    "from pypfopt.efficient_frontier import EfficientFrontier\n",
    "from pypfopt import expected_returns, risk_models"
   ]
  },
  {
   "cell_type": "code",
   "execution_count": 58,
   "id": "ec9036df-82ba-4c77-b3a9-d7bdb610f203",
   "metadata": {},
   "outputs": [],
   "source": [
    "class PortfolioOptimizer:\n",
    "    def __init__(self, tickers:list, start_date:str, end_date:str):\n",
    "        \"\"\"\n",
    "        initialize portfolio optimizer\n",
    "        :tickers : (e.g. ['0001.HK','0002.HK'])\n",
    "        :start_date: (e.g. '2020-01-01')\n",
    "        :end_date: (e.g. '2025-01-01')\n",
    "        \"\"\"\n",
    "        self.tickers = tickers\n",
    "        self.start_date = start_date\n",
    "        self.end_date = end_date\n",
    "        self.prices = self.fetch_prices()\n",
    "        self.returns = self.calculate_logreturns()\n",
    "        self.mu = expected_returns.mean_historical_return(self.prices, log_returns=True)\n",
    "        self.S = risk_models.sample_cov(self.prices, log_returns=True)\n",
    "        self.weights = None\n",
    "        \n",
    "    def fetch_prices(self):\n",
    "        \"\"\"\n",
    "        fetch prices from data file and concatenate them into one dataframe\n",
    "        (Adj Close = Close * Adjustment Factor)\n",
    "        \"\"\"\n",
    "        adj_close_dfs = []\n",
    "        for ticker in self.tickers:\n",
    "            df = pd.read_csv(f'{ticker}.csv', index_col='Date', parse_dates=True)\n",
    "            df.index = df.index.tz_localize(None)\n",
    "            start_date = pd.to_datetime(self.start_date).tz_localize(None)\n",
    "            end_date = pd.to_datetime(self.end_date).tz_localize(None)\n",
    "            mask = (df.index >= start_date) & (df.index <= end_date)\n",
    "            df = df.loc[mask]\n",
    "            df['Adjustment Factor'] = (1 - df['Dividends'] / df['Close']).cumprod()\n",
    "            df['Adj Close'] = df['Close'] * df['Adjustment Factor']\n",
    "            adj_close_dfs.append(df[['Adj Close']].rename(columns={'Adj Close': ticker}))\n",
    "        return pd.concat(adj_close_dfs, axis=1).dropna(how='all')\n",
    " \n",
    "    def calculate_logreturns(self):\n",
    "        \"\"\"return -> log returns\"\"\"\n",
    "        return np.log(self.prices / self.prices.shift(1)).dropna()\n",
    "    \n",
    "    def optimize(self, objective, risk_free_rate=0.0, target_return=None):\n",
    "        \"\"\"\n",
    "        run the optimizer\n",
    "        :objective ('min_variance', 'max_sharpe', 'Markowitz')\n",
    "        :risk_free_rate (annualized)\n",
    "        :target_return (daily for Markowitz）\n",
    "        return -> {ticker: weight}\n",
    "        \"\"\"\n",
    "        ef = EfficientFrontier(self.mu, self.S, weight_bounds=(0, 1))\n",
    "\n",
    "        if objective == 'min_variance':\n",
    "            weights = ef.min_volatility()\n",
    "        elif objective == 'max_sharpe':\n",
    "            weights = ef.max_sharpe(risk_free_rate=risk_free_rate)\n",
    "        elif objective == 'Markowitz':\n",
    "            if target_return is None:\n",
    "                raise ValueError(\"Markowitz optimization requires target_return\")\n",
    "            weights = ef.efficient_return(target_return=target_return)\n",
    "        else:\n",
    "            raise ValueError(f\"Unknown objective: {objective}\")\n",
    "\n",
    "        self.weights = ef.clean_weights()\n",
    "        return self.weights\n",
    "\n",
    "    def portfolio_performance(self, risk_free_rate=0.0):\n",
    "        \"\"\"\n",
    "        output optimized performance\n",
    "        :risk_free_rate (annualized)\n",
    "        \"\"\"\n",
    "        if self.weights is None:\n",
    "            raise ValueError(\"No weights available. Run optimize() first.\")\n",
    "    \n",
    "        ef = EfficientFrontier(self.mu, self.S, weight_bounds=(0, 1))\n",
    "        weights_array = np.array([self.weights[ticker] for ticker in self.tickers])\n",
    "        ef.weights = weights_array\n",
    "        \n",
    "        return ef.portfolio_performance(risk_free_rate=risk_free_rate, verbose=True)"
   ]
  },
  {
   "cell_type": "code",
   "execution_count": 59,
   "id": "b20a50b0-86b2-4e83-a68d-a4a7cde5808e",
   "metadata": {},
   "outputs": [
    {
     "name": "stdout",
     "output_type": "stream",
     "text": [
      "              0001.HK    0002.HK   0003.HK\n",
      "Date                                      \n",
      "2024-01-02  38.834469  59.775291  5.600152\n",
      "2024-01-03  38.928612  59.588203  5.515159\n",
      "2024-01-04  38.599110  59.822063  5.534047\n",
      "2024-01-05  38.410820  59.728519  5.571822\n",
      "2024-01-08  38.269604  59.073708  5.534047\n",
      "             0001.HK   0002.HK   0003.HK\n",
      "Date                                    \n",
      "2024-01-03  0.002421 -0.003135 -0.015293\n",
      "2024-01-04 -0.008500  0.003917  0.003419\n",
      "2024-01-05 -0.004890 -0.001565  0.006803\n",
      "2024-01-08 -0.003683 -0.011024 -0.006803\n",
      "2024-01-09  0.009792  0.003951  0.010187\n"
     ]
    }
   ],
   "source": [
    "portfolio_1 = PortfolioOptimizer(['0001.HK', '0002.HK', '0003.HK'],'2024-01-01','2025-05-01')\n",
    "all_adj_close = portfolio_1.fetch_prices()\n",
    "logreturn=portfolio_1.calculate_logreturns()\n",
    "print(all_adj_close.head())\n",
    "print(logreturn.head())"
   ]
  },
  {
   "cell_type": "code",
   "execution_count": 69,
   "id": "cfc4b26f-c4dc-441b-9c30-eb21ffccd713",
   "metadata": {},
   "outputs": [
    {
     "name": "stdout",
     "output_type": "stream",
     "text": [
      "OrderedDict({'0001.HK': 0.02582, '0002.HK': 0.6633, '0003.HK': 0.31088})\n",
      "OrderedDict({'0001.HK': 0.0, '0002.HK': 0.0, '0003.HK': 1.0})\n",
      "OrderedDict({'0001.HK': 0.00512, '0002.HK': 0.59766, '0003.HK': 0.39722})\n"
     ]
    }
   ],
   "source": [
    "min_var_weights = portfolio_1.optimize('min_variance')\n",
    "max_sharpe_weights = portfolio_1.optimize('max_sharpe', risk_free_rate=0.03)  \n",
    "Markowitz_weights = portfolio_1.optimize('Markowitz', target_return=0.05)\n",
    "print(min_var_weights)\n",
    "print(max_sharpe_weights)\n",
    "print(Markowitz_weights)"
   ]
  },
  {
   "cell_type": "code",
   "execution_count": 70,
   "id": "b52ba50b-542a-4563-a107-f19a1133abdc",
   "metadata": {},
   "outputs": [
    {
     "name": "stdout",
     "output_type": "stream",
     "text": [
      "Expected annual return: 5.0%\n",
      "Annual volatility: 16.8%\n",
      "Sharpe Ratio: 0.18\n"
     ]
    }
   ],
   "source": [
    "performance = portfolio_1.portfolio_performance(risk_free_rate=0.02)"
   ]
  },
  {
   "cell_type": "code",
   "execution_count": null,
   "id": "a6f5dbe7-6ac3-4beb-b4b3-6f44e1d1e09c",
   "metadata": {},
   "outputs": [],
   "source": []
  }
 ],
 "metadata": {
  "kernelspec": {
   "display_name": "Python [conda env:work]",
   "language": "python",
   "name": "conda-env-work-py"
  },
  "language_info": {
   "codemirror_mode": {
    "name": "ipython",
    "version": 3
   },
   "file_extension": ".py",
   "mimetype": "text/x-python",
   "name": "python",
   "nbconvert_exporter": "python",
   "pygments_lexer": "ipython3",
   "version": "3.13.2"
  }
 },
 "nbformat": 4,
 "nbformat_minor": 5
}
