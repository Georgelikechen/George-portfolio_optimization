{
 "cells": [
  {
   "cell_type": "code",
   "execution_count": 1,
   "id": "d8d997a0-52cd-443b-8aee-3da715cec84b",
   "metadata": {},
   "outputs": [],
   "source": [
    "import yfinance as yf\n",
    "import pandas as pd"
   ]
  },
  {
   "cell_type": "code",
   "execution_count": 2,
   "id": "5c9c3115-10f8-4c33-bb34-48c09cceff92",
   "metadata": {},
   "outputs": [],
   "source": [
    "hang_seng_table = pd.read_csv(\"Hang_Seng_tickers.csv\")"
   ]
  },
  {
   "cell_type": "code",
   "execution_count": 3,
   "id": "a6b58766-cb35-4124-82c5-148e0ef10516",
   "metadata": {},
   "outputs": [],
   "source": [
    "tickers = hang_seng_table['Ticker'].tolist()"
   ]
  },
  {
   "cell_type": "code",
   "execution_count": 4,
   "id": "8cf023e4-589d-4416-8bca-f621ac283c70",
   "metadata": {},
   "outputs": [],
   "source": [
    "def download_stock_price(tickers):\n",
    "    for ticker in tickers:\n",
    "        ticker = ticker.strip()\n",
    "        stock = yf.Ticker(ticker)\n",
    "        price = stock.history(start=\"2020-01-01\", end=None)\n",
    "        price.to_csv(f\"data/{ticker}.csv\")"
   ]
  },
  {
   "cell_type": "code",
   "execution_count": null,
   "id": "c2593fed-8943-4b24-915a-bff9fdeae6c6",
   "metadata": {},
   "outputs": [],
   "source": [
    "download_stock_price(tickers)"
   ]
  }
 ],
 "metadata": {
  "kernelspec": {
   "display_name": "Python 3 (ipykernel)",
   "language": "python",
   "name": "python3"
  },
  "language_info": {
   "codemirror_mode": {
    "name": "ipython",
    "version": 3
   },
   "file_extension": ".py",
   "mimetype": "text/x-python",
   "name": "python",
   "nbconvert_exporter": "python",
   "pygments_lexer": "ipython3",
   "version": "3.13.2"
  }
 },
 "nbformat": 4,
 "nbformat_minor": 5
}
