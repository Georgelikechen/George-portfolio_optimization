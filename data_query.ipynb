{
 "cells": [
  {
   "cell_type": "code",
   "execution_count": 1,
   "id": "d8d997a0-52cd-443b-8aee-3da715cec84b",
   "metadata": {},
   "outputs": [],
   "source": [
    "import yfinance as yf\n",
    "import pandas as pd"
   ]
  },
  {
   "cell_type": "code",
   "execution_count": 32,
   "id": "5c9c3115-10f8-4c33-bb34-48c09cceff92",
   "metadata": {},
   "outputs": [],
   "source": [
    "hang_seng_table = pd.read_csv(\"Hang_Seng_tickers.csv\")"
   ]
  },
  {
   "cell_type": "code",
   "execution_count": 34,
   "id": "a6b58766-cb35-4124-82c5-148e0ef10516",
   "metadata": {},
   "outputs": [],
   "source": [
    "tickers = hang_seng_table['Ticker'].tolist()"
   ]
  },
  {
   "cell_type": "code",
   "execution_count": 41,
   "id": "8cf023e4-589d-4416-8bca-f621ac283c70",
   "metadata": {},
   "outputs": [],
   "source": [
    "def download_stock_price_(tickers):\n",
    "    for ticker in tickers:\n",
    "        ticker = ticker.strip()\n",
    "        stock = yf.Ticker(ticker)\n",
    "        price = stock.history(start=\"2020-01-01\", end=None)\n",
    "        price.to_csv(f\"data/{ticker}.csv\")"
   ]
  },
  {
   "cell_type": "code",
   "execution_count": 42,
   "id": "a7e6c370-e28d-4595-bec5-177db8b42dd2",
   "metadata": {},
   "outputs": [],
   "source": [
    "download_stock_price_(tickers)"
   ]
  }
 ],
 "metadata": {
  "kernelspec": {
   "display_name": "Python [conda env:work]",
   "language": "python",
   "name": "conda-env-work-py"
  },
  "language_info": {
   "codemirror_mode": {
    "name": "ipython",
    "version": 3
   },
   "file_extension": ".py",
   "mimetype": "text/x-python",
   "name": "python",
   "nbconvert_exporter": "python",
   "pygments_lexer": "ipython3",
   "version": "3.13.2"
  }
 },
 "nbformat": 4,
 "nbformat_minor": 5
}
